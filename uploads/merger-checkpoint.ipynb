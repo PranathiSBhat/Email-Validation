{
 "cells": [
  {
   "cell_type": "code",
   "execution_count": 1,
   "id": "67f8d577-d387-42f9-82e7-cb6820bff96f",
   "metadata": {},
   "outputs": [],
   "source": [
    "import pandas as pd\n",
    "\n",
    "# Load datasets without treating any column as index\n",
    "emails_df = pd.read_csv('Emails.csv', index_col=False)\n",
    "spam_emails_df = pd.read_csv('spam_Emails_data.csv', index_col=False)\n",
    "\n",
    "# Drop unnamed columns if present\n",
    "emails_df = emails_df.loc[:, ~emails_df.columns.str.contains('^unnamed')]\n",
    "spam_emails_df = spam_emails_df.loc[:, ~spam_emails_df.columns.str.contains('^unnamed')]"
   ]
  },
  {
   "cell_type": "code",
   "execution_count": 2,
   "id": "2e82654f",
   "metadata": {},
   "outputs": [
    {
     "name": "stdout",
     "output_type": "stream",
     "text": [
      "emails_df columns: ['text', 'spam', 'Unnamed: 2', 'Unnamed: 3', 'Unnamed: 4', 'Unnamed: 5', 'Unnamed: 6', 'Unnamed: 7', 'Unnamed: 8', 'Unnamed: 9', 'Unnamed: 10', 'Unnamed: 11', 'Unnamed: 12', 'Unnamed: 13', 'Unnamed: 14', 'Unnamed: 15', 'Unnamed: 16', 'Unnamed: 17', 'Unnamed: 18', 'Unnamed: 19', 'Unnamed: 20', 'Unnamed: 21', 'Unnamed: 22', 'Unnamed: 23', 'Unnamed: 24', 'Unnamed: 25', 'Unnamed: 26', 'Unnamed: 27', 'Unnamed: 28', 'Unnamed: 29', 'Unnamed: 30', 'Unnamed: 31', 'Unnamed: 32', 'Unnamed: 33', 'Unnamed: 34', 'Unnamed: 35', 'Unnamed: 36', 'Unnamed: 37', 'Unnamed: 38', 'Unnamed: 39', 'Unnamed: 40', 'Unnamed: 41', 'Unnamed: 42', 'Unnamed: 43', 'Unnamed: 44', 'Unnamed: 45', 'Unnamed: 46', 'Unnamed: 47', 'Unnamed: 48', 'Unnamed: 49', 'Unnamed: 50', 'Unnamed: 51', 'Unnamed: 52', 'Unnamed: 53', 'Unnamed: 54', 'Unnamed: 55', 'Unnamed: 56', 'Unnamed: 57', 'Unnamed: 58', 'Unnamed: 59', 'Unnamed: 60', 'Unnamed: 61', 'Unnamed: 62', 'Unnamed: 63', 'Unnamed: 64', 'Unnamed: 65', 'Unnamed: 66', 'Unnamed: 67', 'Unnamed: 68', 'Unnamed: 69', 'Unnamed: 70', 'Unnamed: 71', 'Unnamed: 72', 'Unnamed: 73', 'Unnamed: 74', 'Unnamed: 75', 'Unnamed: 76', 'Unnamed: 77', 'Unnamed: 78', 'Unnamed: 79', 'Unnamed: 80', 'Unnamed: 81', 'Unnamed: 82', 'Unnamed: 83', 'Unnamed: 84', 'Unnamed: 85', 'Unnamed: 86', 'Unnamed: 87', 'Unnamed: 88', 'Unnamed: 89', 'Unnamed: 90', 'Unnamed: 91', 'Unnamed: 92', 'Unnamed: 93', 'Unnamed: 94', 'Unnamed: 95', 'Unnamed: 96', 'Unnamed: 97', 'Unnamed: 98', 'Unnamed: 99', 'Unnamed: 100', 'Unnamed: 101', 'Unnamed: 102', 'Unnamed: 103', 'Unnamed: 104', 'Unnamed: 105', 'Unnamed: 106', 'Unnamed: 107', 'Unnamed: 108', 'Unnamed: 109']\n",
      "spam_emails_df columns: ['label', 'text']\n"
     ]
    }
   ],
   "source": [
    "# Debug: Print columns to check for 'label' existence\n",
    "print('emails_df columns:', emails_df.columns.tolist())\n",
    "print('spam_emails_df columns:', spam_emails_df.columns.tolist())"
   ]
  },
  {
   "cell_type": "code",
   "execution_count": 3,
   "id": "a5d93de5-27b9-429f-b218-3bb8e979ee63",
   "metadata": {},
   "outputs": [],
   "source": [
    "# Standardize column names\n",
    "emails_df.columns = emails_df.columns.str.lower().str.strip()\n",
    "spam_emails_df.columns = spam_emails_df.columns.str.lower().str.strip()\n",
    "\n",
    "# Rename columns\n",
    "emails_df = emails_df.rename(columns={'text': 'text', 'spam': 'label'})\n",
    "\n",
    "# Replace 1/0 with spam/ham\n",
    "emails_df['label'] = emails_df['label'].replace({1: 'spam', 0: 'ham', '1': 'spam', '0': 'ham'})\n",
    "spam_emails_df['label'] = spam_emails_df['label'].replace({1: 'spam', 0: 'ham', '1': 'spam', '0': 'ham'})\n",
    "\n",
    "# Merge datasets\n",
    "merged_df = pd.concat([emails_df, spam_emails_df], ignore_index=True)\n",
    "\n",
    "# Drop unnamed columns again just in case\n",
    "merged_df = merged_df.loc[:, ~merged_df.columns.str.contains('^unnamed')]\n",
    "\n",
    "# Save final CSV\n",
    "merged_df.to_csv('validated_emails.csv', index=False)"
   ]
  },
  {
   "cell_type": "code",
   "execution_count": null,
   "id": "6358990a-c206-45bd-a959-f46eea3d3192",
   "metadata": {},
   "outputs": [],
   "source": []
  }
 ],
 "metadata": {
  "kernelspec": {
   "display_name": "Python 3",
   "language": "python",
   "name": "python3"
  },
  "language_info": {
   "codemirror_mode": {
    "name": "ipython",
    "version": 3
   },
   "file_extension": ".py",
   "mimetype": "text/x-python",
   "name": "python",
   "nbconvert_exporter": "python",
   "pygments_lexer": "ipython3",
   "version": "3.13.1"
  }
 },
 "nbformat": 4,
 "nbformat_minor": 5
}
