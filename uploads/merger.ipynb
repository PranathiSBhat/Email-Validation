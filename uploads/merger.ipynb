{
 "cells": [
  {
   "cell_type": "code",
   "execution_count": null,
   "id": "67f8d577-d387-42f9-82e7-cb6820bff96f",
   "metadata": {},
   "outputs": [],
   "source": [
    "import pandas as pd\n",
    "\n",
    "# Load datasets without treating any column as index\n",
    "emails_df = pd.read_csv('Emails.csv', index_col=False)\n",
    "spam_emails_df = pd.read_csv('spam_Emails_data.csv', index_col=False)\n",
    "\n",
    "# Drop unnamed columns if present\n",
    "emails_df = emails_df.loc[:, ~emails_df.columns.str.contains('^unnamed')]\n",
    "spam_emails_df = spam_emails_df.loc[:, ~spam_emails_df.columns.str.contains('^unnamed')]\n",
    "\n",
    "# Standardize column names\n",
    "emails_df.columns = emails_df.columns.str.lower().str.strip()\n",
    "spam_emails_df.columns = spam_emails_df.columns.str.lower().str.strip()\n",
    "\n",
    "# Rename columns\n",
    "emails_df = emails_df.rename(columns={'text': 'text', 'spam': 'label'})\n",
    "\n",
    "# Replace 1/0 with spam/ham\n",
    "emails_df['label'] = emails_df['label'].replace({1: 'spam', 0: 'ham', '1': 'spam', '0': 'ham'})\n",
    "spam_emails_df['label'] = spam_emails_df['label'].replace({1: 'spam', 0: 'ham', '1': 'spam', '0': 'ham'})\n",
    "\n",
    "# Merge datasets\n",
    "merged_df = pd.concat([emails_df, spam_emails_df], ignore_index=True)\n",
    "\n",
    "# Drop unnamed columns again just in case\n",
    "merged_df = merged_df.loc[:, ~merged_df.columns.str.contains('^unnamed')]\n",
    "\n",
    "# Save final CSV\n",
    "merged_df.to_csv('validated_emails.csv', index=False)"
   ]
  },
  {
   "cell_type": "code",
   "execution_count": null,
   "id": "a5d93de5-27b9-429f-b218-3bb8e979ee63",
   "metadata": {},
   "outputs": [],
   "source": []
  }
 ],
 "metadata": {
  "kernelspec": {
   "display_name": "Python 3 (ipykernel)",
   "language": "python",
   "name": "python3"
  },
  "language_info": {
   "codemirror_mode": {
    "name": "ipython",
    "version": 3
   },
   "file_extension": ".py",
   "mimetype": "text/x-python",
   "name": "python",
   "nbconvert_exporter": "python",
   "pygments_lexer": "ipython3",
   "version": "3.12.6"
  }
 },
 "nbformat": 4,
 "nbformat_minor": 5
}
