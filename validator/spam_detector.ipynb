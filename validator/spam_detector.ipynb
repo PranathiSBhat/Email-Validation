{
 "cells": [
  {
   "cell_type": "markdown",
   "id": "15a89d36-d870-4765-9f05-664899664531",
   "metadata": {},
   "source": [
    "## Importing the Libraries"
   ]
  },
  {
   "cell_type": "code",
   "execution_count": 2,
   "id": "b2ded9e7-6cc8-4ade-8928-a04398d991dd",
   "metadata": {},
   "outputs": [],
   "source": [
    "import pandas as pd\n",
    "from sklearn.model_selection import train_test_split\n",
    "from sklearn.feature_extraction.text import TfidfVectorizer\n",
    "from sklearn.naive_bayes import MultinomialNB\n",
    "from xgboost import XGBClassifier\n",
    "from sklearn.metrics import classification_report, accuracy_score\n",
    "import mysql.connector\n",
    "import pickle\n",
    "import os"
   ]
  },
  {
   "cell_type": "code",
   "execution_count": 3,
   "id": "8cc9173a-7143-41ec-a44a-c459131f295e",
   "metadata": {},
   "outputs": [],
   "source": [
    "def get_db_connection():\n",
    "    return mysql.connector.connect(\n",
    "        host=\"localhost\",\n",
    "        user=\"root\",             # change if needed\n",
    "        password=\"cgi@2025\",     # your MySQL password\n",
    "        database=\"spam_detection\",\n",
    "        auth_plugin=\"mysql_native_password\"\n",
    "    )"
   ]
  },
  {
   "cell_type": "code",
   "execution_count": 4,
   "id": "b7711aa5-d5c6-4c19-b17d-f919d60163a4",
   "metadata": {},
   "outputs": [],
   "source": [
    "def insert_prediction_to_db(email_text, nb_pred, xgb_pred):\n",
    "    \"\"\"Insert spam detection result into MySQL database.\"\"\"\n",
    "    conn = get_db_connection()\n",
    "    cursor = conn.cursor()\n",
    "\n",
    "    sql = \"\"\"\n",
    "    INSERT INTO spam_results (email_text, naive_bayes_pred, xgboost_pred)\n",
    "    VALUES (%s, %s, %s)\n",
    "    \"\"\"\n",
    "    values = (email_text, int(nb_pred), int(xgb_pred))  # store predictions as 0/1\n",
    "    cursor.execute(sql, values)\n",
    "    conn.commit()\n",
    "    cursor.close()\n",
    "    conn.close()"
   ]
  },
  {
   "cell_type": "code",
   "execution_count": 5,
   "id": "76b96b17-dd7f-4731-bdb3-e2b6f0d2663c",
   "metadata": {},
   "outputs": [],
   "source": [
    "# Paths \n",
    "MODEL_DIR = \"./ml_model\"\n",
    "os.makedirs(MODEL_DIR, exist_ok=True)\n",
    "NB_PATH = os.path.join(MODEL_DIR, \"naive_bayes_model.pkl\")\n",
    "XGB_PATH = os.path.join(MODEL_DIR, \"xgboost_model.pkl\")\n",
    "VEC_PATH = os.path.join(MODEL_DIR, \"vectorizer.pkl\")"
   ]
  },
  {
   "cell_type": "markdown",
   "id": "72ca84e4-b36a-4213-8732-79cf66199183",
   "metadata": {},
   "source": [
    "## Load the dataset"
   ]
  },
  {
   "cell_type": "code",
   "execution_count": 6,
   "id": "7f71a5c4-da82-4342-8279-f8a9a42f395d",
   "metadata": {},
   "outputs": [],
   "source": [
    "# Load data\n",
    "df = pd.read_csv('C:/CGI/Project/Email-Validation/uploads/validated_emails.csv')"
   ]
  },
  {
   "cell_type": "code",
   "execution_count": 7,
   "id": "eadd0584-0607-4dae-9d96-0d23093c8ac2",
   "metadata": {},
   "outputs": [
    {
     "name": "stdout",
     "output_type": "stream",
     "text": [
      "<class 'pandas.core.frame.DataFrame'>\n",
      "RangeIndex: 199582 entries, 0 to 199581\n",
      "Data columns (total 2 columns):\n",
      " #   Column  Non-Null Count   Dtype \n",
      "---  ------  --------------   ----- \n",
      " 0   text    199580 non-null  object\n",
      " 1   label   199580 non-null  object\n",
      "dtypes: object(2)\n",
      "memory usage: 3.0+ MB\n"
     ]
    }
   ],
   "source": [
    "df.info()"
   ]
  },
  {
   "cell_type": "code",
   "execution_count": 8,
   "id": "aa733e11-0dca-44d0-a21d-631b1e23180d",
   "metadata": {},
   "outputs": [
    {
     "data": {
      "text/html": [
       "<div>\n",
       "<style scoped>\n",
       "    .dataframe tbody tr th:only-of-type {\n",
       "        vertical-align: middle;\n",
       "    }\n",
       "\n",
       "    .dataframe tbody tr th {\n",
       "        vertical-align: top;\n",
       "    }\n",
       "\n",
       "    .dataframe thead th {\n",
       "        text-align: right;\n",
       "    }\n",
       "</style>\n",
       "<table border=\"1\" class=\"dataframe\">\n",
       "  <thead>\n",
       "    <tr style=\"text-align: right;\">\n",
       "      <th></th>\n",
       "      <th>text</th>\n",
       "      <th>label</th>\n",
       "    </tr>\n",
       "  </thead>\n",
       "  <tbody>\n",
       "    <tr>\n",
       "      <th>0</th>\n",
       "      <td>Subject: naturally irresistible your corporate...</td>\n",
       "      <td>spam</td>\n",
       "    </tr>\n",
       "    <tr>\n",
       "      <th>1</th>\n",
       "      <td>Subject: the stock trading gunslinger  fanny i...</td>\n",
       "      <td>spam</td>\n",
       "    </tr>\n",
       "    <tr>\n",
       "      <th>2</th>\n",
       "      <td>Subject: unbelievable new homes made easy  im ...</td>\n",
       "      <td>spam</td>\n",
       "    </tr>\n",
       "    <tr>\n",
       "      <th>3</th>\n",
       "      <td>Subject: 4 color printing special  request add...</td>\n",
       "      <td>spam</td>\n",
       "    </tr>\n",
       "    <tr>\n",
       "      <th>4</th>\n",
       "      <td>Subject: do not have money , get software cds ...</td>\n",
       "      <td>spam</td>\n",
       "    </tr>\n",
       "  </tbody>\n",
       "</table>\n",
       "</div>"
      ],
      "text/plain": [
       "                                                text label\n",
       "0  Subject: naturally irresistible your corporate...  spam\n",
       "1  Subject: the stock trading gunslinger  fanny i...  spam\n",
       "2  Subject: unbelievable new homes made easy  im ...  spam\n",
       "3  Subject: 4 color printing special  request add...  spam\n",
       "4  Subject: do not have money , get software cds ...  spam"
      ]
     },
     "execution_count": 8,
     "metadata": {},
     "output_type": "execute_result"
    }
   ],
   "source": [
    "df.head()"
   ]
  },
  {
   "cell_type": "markdown",
   "id": "f1651b33-13e3-4aa3-beab-e9a9f4365ecc",
   "metadata": {},
   "source": [
    "## Remove the NaN values"
   ]
  },
  {
   "cell_type": "code",
   "execution_count": 9,
   "id": "dd767ce4-0221-493a-88d8-59a34c59d5da",
   "metadata": {},
   "outputs": [],
   "source": [
    "# Remove NaN values \n",
    "df = df.dropna()"
   ]
  },
  {
   "cell_type": "markdown",
   "id": "924be020-e861-416b-95bf-4270002822a7",
   "metadata": {},
   "source": [
    "## Mapping label to integer values"
   ]
  },
  {
   "cell_type": "code",
   "execution_count": 10,
   "id": "e3cd42c9-2ec6-4081-9e3e-0fef642c18ee",
   "metadata": {},
   "outputs": [],
   "source": [
    "# Keep only valid labels and map: ham -> 0, spam -> 1\n",
    "valid_labels = {\"ham\": 0, \"Ham\": 0, \"spam\": 1, \"Spam\": 1}\n",
    "df = df[df['label'].isin(valid_labels.keys())]\n",
    "df['label'] = df['label'].map(valid_labels).astype(int)"
   ]
  },
  {
   "cell_type": "code",
   "execution_count": 11,
   "id": "7792894d-4224-4ce3-8e48-4f945ec54cc9",
   "metadata": {},
   "outputs": [],
   "source": [
    "# Drop rows where text is NaN or empty\n",
    "df = df.dropna(subset=['text'])\n",
    "df = df[df['text'].str.strip() != \"\"]"
   ]
  },
  {
   "cell_type": "code",
   "execution_count": 12,
   "id": "b9ddaa07-707f-466d-8744-f60eb32040dd",
   "metadata": {},
   "outputs": [
    {
     "name": "stdout",
     "output_type": "stream",
     "text": [
      "                                                     text  label\n",
      "0       Subject: naturally irresistible your corporate...      1\n",
      "1       Subject: the stock trading gunslinger  fanny i...      1\n",
      "2       Subject: unbelievable new homes made easy  im ...      1\n",
      "3       Subject: 4 color printing special  request add...      1\n",
      "4       Subject: do not have money , get software cds ...      1\n",
      "...                                                   ...    ...\n",
      "199577  on escapenumber escapenumber escapenumber rob ...      0\n",
      "199578  we have everything you need escapelong cialesc...      1\n",
      "199579  hi quick question say i have a date variable i...      0\n",
      "199580  thank you for your loan request which we recie...      1\n",
      "199581  this is an automatically generated delivery st...      0\n",
      "\n",
      "[199576 rows x 2 columns]\n"
     ]
    }
   ],
   "source": [
    "print(df)"
   ]
  },
  {
   "cell_type": "code",
   "execution_count": 13,
   "id": "41455dbc-bcec-4f2b-abcd-ba3af778b153",
   "metadata": {},
   "outputs": [
    {
     "name": "stdout",
     "output_type": "stream",
     "text": [
      "Label distribution:\n",
      " label\n",
      "0    106517\n",
      "1     93059\n",
      "Name: count, dtype: int64\n"
     ]
    }
   ],
   "source": [
    "# Check distribution\n",
    "print(\"Label distribution:\\n\", df['label'].value_counts())"
   ]
  },
  {
   "cell_type": "code",
   "execution_count": 14,
   "id": "2f9bf776-9b99-40cd-8450-16290c5fb32f",
   "metadata": {},
   "outputs": [
    {
     "data": {
      "text/html": [
       "<div>\n",
       "<style scoped>\n",
       "    .dataframe tbody tr th:only-of-type {\n",
       "        vertical-align: middle;\n",
       "    }\n",
       "\n",
       "    .dataframe tbody tr th {\n",
       "        vertical-align: top;\n",
       "    }\n",
       "\n",
       "    .dataframe thead th {\n",
       "        text-align: right;\n",
       "    }\n",
       "</style>\n",
       "<table border=\"1\" class=\"dataframe\">\n",
       "  <thead>\n",
       "    <tr style=\"text-align: right;\">\n",
       "      <th></th>\n",
       "      <th>text</th>\n",
       "      <th>label</th>\n",
       "    </tr>\n",
       "  </thead>\n",
       "  <tbody>\n",
       "    <tr>\n",
       "      <th>0</th>\n",
       "      <td>Subject: naturally irresistible your corporate...</td>\n",
       "      <td>1</td>\n",
       "    </tr>\n",
       "    <tr>\n",
       "      <th>1</th>\n",
       "      <td>Subject: the stock trading gunslinger  fanny i...</td>\n",
       "      <td>1</td>\n",
       "    </tr>\n",
       "    <tr>\n",
       "      <th>2</th>\n",
       "      <td>Subject: unbelievable new homes made easy  im ...</td>\n",
       "      <td>1</td>\n",
       "    </tr>\n",
       "    <tr>\n",
       "      <th>3</th>\n",
       "      <td>Subject: 4 color printing special  request add...</td>\n",
       "      <td>1</td>\n",
       "    </tr>\n",
       "    <tr>\n",
       "      <th>4</th>\n",
       "      <td>Subject: do not have money , get software cds ...</td>\n",
       "      <td>1</td>\n",
       "    </tr>\n",
       "  </tbody>\n",
       "</table>\n",
       "</div>"
      ],
      "text/plain": [
       "                                                text  label\n",
       "0  Subject: naturally irresistible your corporate...      1\n",
       "1  Subject: the stock trading gunslinger  fanny i...      1\n",
       "2  Subject: unbelievable new homes made easy  im ...      1\n",
       "3  Subject: 4 color printing special  request add...      1\n",
       "4  Subject: do not have money , get software cds ...      1"
      ]
     },
     "execution_count": 14,
     "metadata": {},
     "output_type": "execute_result"
    }
   ],
   "source": [
    "df.head()"
   ]
  },
  {
   "cell_type": "code",
   "execution_count": 15,
   "id": "52ad20e7-e0a9-4d69-b84e-1ff275e48ade",
   "metadata": {},
   "outputs": [],
   "source": [
    "# Drop rows where text is NaN or empty BEFORE splitting\n",
    "# df = df.dropna(subset=['text', 'label'])\n",
    "# df = df[df['text'].str.strip() != \"\"]"
   ]
  },
  {
   "cell_type": "code",
   "execution_count": 16,
   "id": "0e455a4d-1862-4c81-ae04-adc7833cb38e",
   "metadata": {},
   "outputs": [],
   "source": [
    "X = df['text'].astype(str)\n",
    "y = df['label'].astype(int)"
   ]
  },
  {
   "cell_type": "code",
   "execution_count": 17,
   "id": "242258ff-1a98-4f69-b6c8-c5472a678c4f",
   "metadata": {},
   "outputs": [],
   "source": [
    "# Split data\n",
    "X_train, X_test, y_train, y_test = train_test_split(X, y, test_size=0.2, random_state=42)"
   ]
  },
  {
   "cell_type": "code",
   "execution_count": 18,
   "id": "ba7b225f-14f4-462f-af5d-60978964b462",
   "metadata": {},
   "outputs": [],
   "source": [
    "# Ensure text column has no NaN or empty values\n",
    "X_train = X_train.dropna().astype(str)\n",
    "X_train = X_train[X_train.str.strip() != \"\"]\n",
    "\n",
    "X_test = X_test.dropna().astype(str)\n",
    "X_test = X_test[X_test.str.strip() != \"\"]"
   ]
  },
  {
   "cell_type": "code",
   "execution_count": 26,
   "id": "3a21505f-155a-4a83-ad08-10c400c9385e",
   "metadata": {
    "scrolled": true
   },
   "outputs": [
    {
     "name": "stdout",
     "output_type": "stream",
     "text": [
      "Loading models from ./ml_model/\n"
     ]
    }
   ],
   "source": [
    "# Vectorize text\n",
    "\n",
    "if not (os.path.exists(NB_PATH) and os.path.exists(XGB_PATH) and os.path.exists(VEC_PATH)):\n",
    "    print(\"Training models...\")\n",
    "\n",
    "    vectorizer = TfidfVectorizer(stop_words='english', max_features=1000)\n",
    "    X_train_vec = vectorizer.fit_transform(X_train)\n",
    "    X_test_vec = vectorizer.transform(X_test)\n",
    "\n",
    "    # Naive Bayes\n",
    "    nb = MultinomialNB()\n",
    "    nb.fit(X_train_vec, y_train)\n",
    "    y_pred_nb = nb.predict(X_test_vec)\n",
    "    print(\"Naive Bayes Results:\") \n",
    "    print(classification_report(y_test, y_pred_nb))\n",
    "    print(\"Accuracy:\", accuracy_score(y_test, y_pred_nb))\n",
    "\n",
    "    # XGBoost\n",
    "    xgb = XGBClassifier(eval_metric='logloss', max_depth=3, min_child_weight=2, subsample=0.8, reg_alpha=1, reg_lambda=1)\n",
    "    xgb.fit(X_train_vec, y_train)\n",
    "    y_pred_xgb = xgb.predict(X_test_vec)\n",
    "    print(\"\\nXGBoost Results:\")\n",
    "    print(classification_report(y_test, y_pred_xgb))\n",
    "    print(\"Accuracy:\", accuracy_score(y_test, y_pred_xgb)) \n",
    "\n",
    "    #Saving models in .pkl file\n",
    "    with open(NB_PATH, \"wb\") as f:\n",
    "        pickle.dump(nb, f)\n",
    "    with open(XGB_PATH, \"wb\") as f:\n",
    "        pickle.dump(xgb, f)\n",
    "    with open(VEC_PATH, \"wb\") as f:\n",
    "        pickle.dump(vectorizer, f)\n",
    "\n",
    "    print(\"Models trained & saved in ./ml_model/\")\n",
    "\n",
    "else:\n",
    "    print(\"Loading models from ./ml_model/\")\n",
    "    with open(NB_PATH, \"rb\") as f:\n",
    "        nb = pickle.load(f)\n",
    "    with open(XGB_PATH, \"rb\") as f:\n",
    "        xgb = pickle.load(f)\n",
    "    with open(VEC_PATH, \"rb\") as f:\n",
    "        vectorizer = pickle.load(f)"
   ]
  },
  {
   "cell_type": "code",
   "execution_count": 27,
   "id": "67eeeebe-a4d3-484d-920a-eab5794e046d",
   "metadata": {},
   "outputs": [
    {
     "name": "stdout",
     "output_type": "stream",
     "text": [
      "Naive Bayes Results:\n",
      "              precision    recall  f1-score   support\n",
      "\n",
      "           0       0.90      0.93      0.91     21430\n",
      "           1       0.92      0.88      0.90     18486\n",
      "\n",
      "    accuracy                           0.91     39916\n",
      "   macro avg       0.91      0.90      0.91     39916\n",
      "weighted avg       0.91      0.91      0.91     39916\n",
      "\n",
      "Accuracy: 0.9065036576811304\n",
      "\n",
      "XGBoost Results:\n",
      "              precision    recall  f1-score   support\n",
      "\n",
      "           0       0.97      0.92      0.95     21430\n",
      "           1       0.92      0.97      0.94     18486\n",
      "\n",
      "    accuracy                           0.94     39916\n",
      "   macro avg       0.94      0.95      0.94     39916\n",
      "weighted avg       0.95      0.94      0.94     39916\n",
      "\n",
      "Accuracy: 0.9443330995089688\n"
     ]
    }
   ],
   "source": [
    "#Evaluating the models\n",
    "X_test_vec = vectorizer.transform(X_test)\n",
    "print(\"Naive Bayes Results:\")\n",
    "print(classification_report(y_test, nb.predict(X_test_vec)))\n",
    "print(\"Accuracy:\", accuracy_score(y_test, nb.predict(X_test_vec)))\n",
    "\n",
    "print(\"\\nXGBoost Results:\")\n",
    "print(classification_report(y_test, xgb.predict(X_test_vec)))\n",
    "print(\"Accuracy:\", accuracy_score(y_test, xgb.predict(X_test_vec)))"
   ]
  },
  {
   "cell_type": "code",
   "execution_count": 28,
   "id": "af452d32-f5c3-4758-a39b-c2cd19a23e4f",
   "metadata": {},
   "outputs": [],
   "source": [
    "# --- Prediction Function ---\n",
    "def classify_and_store_email(email_text: str):\n",
    "    email_vec = vectorizer.transform([email_text])\n",
    "    nb_pred = nb.predict(email_vec)[0]\n",
    "    xgb_pred = xgb.predict(email_vec)[0]\n",
    "\n",
    "    insert_prediction_to_db(email_text, nb_pred, xgb_pred)\n",
    "\n",
    "    return {\n",
    "        \"email_text\": email_text,\n",
    "        \"naive_bayes_prediction\": \"Spam\" if nb_pred == 1 else \"Ham\",\n",
    "        \"xgboost_prediction\": \"Spam\" if xgb_pred == 1 else \"Ham\"\n",
    "    }"
   ]
  },
  {
   "cell_type": "code",
   "execution_count": 29,
   "id": "83d4df6a-b5c4-46b7-9e6c-a4ec01d78783",
   "metadata": {},
   "outputs": [
    {
     "name": "stdin",
     "output_type": "stream",
     "text": [
      "Enter the email content/text to classify:  Congratulations! You have won $10,000 in our lucky draw. Click this link immediately to claim your prize!!!\n"
     ]
    },
    {
     "name": "stdout",
     "output_type": "stream",
     "text": [
      "\n",
      "Classification Result:\n",
      "Email Text: Congratulations! You have won $10,000 in our lucky draw. Click this link immediately to claim your prize!!!\n",
      "Naive Bayes Prediction: Spam\n",
      "XGBoost Prediction: Spam\n"
     ]
    }
   ],
   "source": [
    "# --- Main Execution ---\n",
    "if __name__ == \"__main__\":\n",
    "    user_email = input(\"Enter the email content/text to classify: \").strip()\n",
    "    result = classify_and_store_email(user_email)\n",
    "\n",
    "    print(\"\\nClassification Result:\")\n",
    "    print(\"Email Text:\", result[\"email_text\"])\n",
    "    print(\"Naive Bayes Prediction:\", result[\"naive_bayes_prediction\"])\n",
    "    print(\"XGBoost Prediction:\", result[\"xgboost_prediction\"])"
   ]
  },
  {
   "cell_type": "code",
   "execution_count": null,
   "id": "123f8516-73c8-4e6f-b6a6-5e2985c5fda4",
   "metadata": {},
   "outputs": [],
   "source": []
  }
 ],
 "metadata": {
  "kernelspec": {
   "display_name": "Python 3 (ipykernel)",
   "language": "python",
   "name": "python3"
  },
  "language_info": {
   "codemirror_mode": {
    "name": "ipython",
    "version": 3
   },
   "file_extension": ".py",
   "mimetype": "text/x-python",
   "name": "python",
   "nbconvert_exporter": "python",
   "pygments_lexer": "ipython3",
   "version": "3.12.6"
  }
 },
 "nbformat": 4,
 "nbformat_minor": 5
}
