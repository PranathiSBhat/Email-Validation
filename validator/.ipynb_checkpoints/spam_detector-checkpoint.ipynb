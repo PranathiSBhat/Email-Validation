{
 "cells": [
  {
   "cell_type": "markdown",
   "id": "15a89d36-d870-4765-9f05-664899664531",
   "metadata": {},
   "source": [
    "## Importing the Libraries"
   ]
  },
  {
   "cell_type": "code",
   "execution_count": 3,
   "id": "b2ded9e7-6cc8-4ade-8928-a04398d991dd",
   "metadata": {},
   "outputs": [],
   "source": [
    "import pandas as pd\n",
    "from sklearn.model_selection import train_test_split\n",
    "from sklearn.feature_extraction.text import TfidfVectorizer\n",
    "from sklearn.naive_bayes import MultinomialNB\n",
    "from xgboost import XGBClassifier\n",
    "from sklearn.metrics import classification_report, accuracy_score\n",
    "from sklearn.preprocessing import LabelEncoder"
   ]
  },
  {
   "cell_type": "markdown",
   "id": "72ca84e4-b36a-4213-8732-79cf66199183",
   "metadata": {},
   "source": [
    "## Load the dataset"
   ]
  },
  {
   "cell_type": "code",
   "execution_count": 4,
   "id": "7f71a5c4-da82-4342-8279-f8a9a42f395d",
   "metadata": {},
   "outputs": [],
   "source": [
    "# Load data\n",
    "df = pd.read_csv('C:/Users/Pranathi/OneDrive/Desktop/project/uploads/validated_emails.csv')"
   ]
  },
  {
   "cell_type": "code",
   "execution_count": 5,
   "id": "eadd0584-0607-4dae-9d96-0d23093c8ac2",
   "metadata": {},
   "outputs": [
    {
     "name": "stdout",
     "output_type": "stream",
     "text": [
      "<class 'pandas.core.frame.DataFrame'>\n",
      "RangeIndex: 199585 entries, 0 to 199584\n",
      "Data columns (total 2 columns):\n",
      " #   Column  Non-Null Count   Dtype \n",
      "---  ------  --------------   ----- \n",
      " 0   text    199583 non-null  object\n",
      " 1   label   199580 non-null  object\n",
      "dtypes: object(2)\n",
      "memory usage: 3.0+ MB\n"
     ]
    }
   ],
   "source": [
    "df.info()"
   ]
  },
  {
   "cell_type": "code",
   "execution_count": 6,
   "id": "aa733e11-0dca-44d0-a21d-631b1e23180d",
   "metadata": {},
   "outputs": [
    {
     "data": {
      "text/html": [
       "<div>\n",
       "<style scoped>\n",
       "    .dataframe tbody tr th:only-of-type {\n",
       "        vertical-align: middle;\n",
       "    }\n",
       "\n",
       "    .dataframe tbody tr th {\n",
       "        vertical-align: top;\n",
       "    }\n",
       "\n",
       "    .dataframe thead th {\n",
       "        text-align: right;\n",
       "    }\n",
       "</style>\n",
       "<table border=\"1\" class=\"dataframe\">\n",
       "  <thead>\n",
       "    <tr style=\"text-align: right;\">\n",
       "      <th></th>\n",
       "      <th>text</th>\n",
       "      <th>label</th>\n",
       "    </tr>\n",
       "  </thead>\n",
       "  <tbody>\n",
       "    <tr>\n",
       "      <th>0</th>\n",
       "      <td>Subject: naturally irresistible your corporate...</td>\n",
       "      <td>spam</td>\n",
       "    </tr>\n",
       "    <tr>\n",
       "      <th>1</th>\n",
       "      <td>Subject: the stock trading gunslinger  fanny i...</td>\n",
       "      <td>spam</td>\n",
       "    </tr>\n",
       "    <tr>\n",
       "      <th>2</th>\n",
       "      <td>Subject: unbelievable new homes made easy  im ...</td>\n",
       "      <td>spam</td>\n",
       "    </tr>\n",
       "    <tr>\n",
       "      <th>3</th>\n",
       "      <td>Subject: 4 color printing special  request add...</td>\n",
       "      <td>spam</td>\n",
       "    </tr>\n",
       "    <tr>\n",
       "      <th>4</th>\n",
       "      <td>Subject: do not have money , get software cds ...</td>\n",
       "      <td>spam</td>\n",
       "    </tr>\n",
       "  </tbody>\n",
       "</table>\n",
       "</div>"
      ],
      "text/plain": [
       "                                                text label\n",
       "0  Subject: naturally irresistible your corporate...  spam\n",
       "1  Subject: the stock trading gunslinger  fanny i...  spam\n",
       "2  Subject: unbelievable new homes made easy  im ...  spam\n",
       "3  Subject: 4 color printing special  request add...  spam\n",
       "4  Subject: do not have money , get software cds ...  spam"
      ]
     },
     "execution_count": 6,
     "metadata": {},
     "output_type": "execute_result"
    }
   ],
   "source": [
    "df.head()"
   ]
  },
  {
   "cell_type": "markdown",
   "id": "f1651b33-13e3-4aa3-beab-e9a9f4365ecc",
   "metadata": {},
   "source": [
    "## Remove the NaN values"
   ]
  },
  {
   "cell_type": "code",
   "execution_count": 7,
   "id": "dd767ce4-0221-493a-88d8-59a34c59d5da",
   "metadata": {},
   "outputs": [],
   "source": [
    "# Remove NaN values \n",
    "df = df.dropna()"
   ]
  },
  {
   "cell_type": "markdown",
   "id": "924be020-e861-416b-95bf-4270002822a7",
   "metadata": {},
   "source": [
    "## Mapping label to integer values"
   ]
  },
  {
   "cell_type": "code",
   "execution_count": 8,
   "id": "e3cd42c9-2ec6-4081-9e3e-0fef642c18ee",
   "metadata": {},
   "outputs": [],
   "source": [
    "# Keep only valid labels and map: ham -> 0, spam -> 1\n",
    "valid_labels = {\"ham\": 0, \"Ham\": 0, \"spam\": 1, \"Spam\": 1}\n",
    "df = df[df['label'].isin(valid_labels.keys())]\n",
    "df['label'] = df['label'].map(valid_labels).astype(int)"
   ]
  },
  {
   "cell_type": "code",
   "execution_count": 9,
   "id": "7792894d-4224-4ce3-8e48-4f945ec54cc9",
   "metadata": {},
   "outputs": [],
   "source": [
    "# Drop rows where text is NaN or empty\n",
    "df = df.dropna(subset=['text'])\n",
    "df = df[df['text'].str.strip() != \"\"]"
   ]
  },
  {
   "cell_type": "code",
   "execution_count": 10,
   "id": "b9ddaa07-707f-466d-8744-f60eb32040dd",
   "metadata": {},
   "outputs": [
    {
     "name": "stdout",
     "output_type": "stream",
     "text": [
      "                                                     text  label\n",
      "0       Subject: naturally irresistible your corporate...      1\n",
      "1       Subject: the stock trading gunslinger  fanny i...      1\n",
      "2       Subject: unbelievable new homes made easy  im ...      1\n",
      "3       Subject: 4 color printing special  request add...      1\n",
      "4       Subject: do not have money , get software cds ...      1\n",
      "...                                                   ...    ...\n",
      "199580  on escapenumber escapenumber escapenumber rob ...      0\n",
      "199581  we have everything you need escapelong cialesc...      1\n",
      "199582  hi quick question say i have a date variable i...      0\n",
      "199583  thank you for your loan request which we recie...      1\n",
      "199584  this is an automatically generated delivery st...      0\n",
      "\n",
      "[199576 rows x 2 columns]\n"
     ]
    }
   ],
   "source": [
    "print(df)"
   ]
  },
  {
   "cell_type": "code",
   "execution_count": 11,
   "id": "41455dbc-bcec-4f2b-abcd-ba3af778b153",
   "metadata": {},
   "outputs": [
    {
     "name": "stdout",
     "output_type": "stream",
     "text": [
      "Label distribution:\n",
      " label\n",
      "0    106517\n",
      "1     93059\n",
      "Name: count, dtype: int64\n"
     ]
    }
   ],
   "source": [
    "# Check distribution\n",
    "print(\"Label distribution:\\n\", df['label'].value_counts())"
   ]
  },
  {
   "cell_type": "code",
   "execution_count": 12,
   "id": "2f9bf776-9b99-40cd-8450-16290c5fb32f",
   "metadata": {},
   "outputs": [
    {
     "data": {
      "text/html": [
       "<div>\n",
       "<style scoped>\n",
       "    .dataframe tbody tr th:only-of-type {\n",
       "        vertical-align: middle;\n",
       "    }\n",
       "\n",
       "    .dataframe tbody tr th {\n",
       "        vertical-align: top;\n",
       "    }\n",
       "\n",
       "    .dataframe thead th {\n",
       "        text-align: right;\n",
       "    }\n",
       "</style>\n",
       "<table border=\"1\" class=\"dataframe\">\n",
       "  <thead>\n",
       "    <tr style=\"text-align: right;\">\n",
       "      <th></th>\n",
       "      <th>text</th>\n",
       "      <th>label</th>\n",
       "    </tr>\n",
       "  </thead>\n",
       "  <tbody>\n",
       "    <tr>\n",
       "      <th>0</th>\n",
       "      <td>Subject: naturally irresistible your corporate...</td>\n",
       "      <td>1</td>\n",
       "    </tr>\n",
       "    <tr>\n",
       "      <th>1</th>\n",
       "      <td>Subject: the stock trading gunslinger  fanny i...</td>\n",
       "      <td>1</td>\n",
       "    </tr>\n",
       "    <tr>\n",
       "      <th>2</th>\n",
       "      <td>Subject: unbelievable new homes made easy  im ...</td>\n",
       "      <td>1</td>\n",
       "    </tr>\n",
       "    <tr>\n",
       "      <th>3</th>\n",
       "      <td>Subject: 4 color printing special  request add...</td>\n",
       "      <td>1</td>\n",
       "    </tr>\n",
       "    <tr>\n",
       "      <th>4</th>\n",
       "      <td>Subject: do not have money , get software cds ...</td>\n",
       "      <td>1</td>\n",
       "    </tr>\n",
       "  </tbody>\n",
       "</table>\n",
       "</div>"
      ],
      "text/plain": [
       "                                                text  label\n",
       "0  Subject: naturally irresistible your corporate...      1\n",
       "1  Subject: the stock trading gunslinger  fanny i...      1\n",
       "2  Subject: unbelievable new homes made easy  im ...      1\n",
       "3  Subject: 4 color printing special  request add...      1\n",
       "4  Subject: do not have money , get software cds ...      1"
      ]
     },
     "execution_count": 12,
     "metadata": {},
     "output_type": "execute_result"
    }
   ],
   "source": [
    "df.head()"
   ]
  },
  {
   "cell_type": "code",
   "execution_count": 13,
   "id": "0e455a4d-1862-4c81-ae04-adc7833cb38e",
   "metadata": {},
   "outputs": [],
   "source": [
    "X = df['text']\n",
    "y = df['label']"
   ]
  },
  {
   "cell_type": "code",
   "execution_count": 14,
   "id": "242258ff-1a98-4f69-b6c8-c5472a678c4f",
   "metadata": {},
   "outputs": [],
   "source": [
    "# Split data\n",
    "X_train, X_test, y_train, y_test = train_test_split(X, y, test_size=0.2, random_state=42)"
   ]
  },
  {
   "cell_type": "code",
   "execution_count": 15,
   "id": "ba7b225f-14f4-462f-af5d-60978964b462",
   "metadata": {},
   "outputs": [],
   "source": [
    "# Ensure text column has no NaN or empty values\n",
    "X_train = X_train.dropna().astype(str)\n",
    "X_train = X_train[X_train.str.strip() != \"\"]\n",
    "\n",
    "X_test = X_test.dropna().astype(str)\n",
    "X_test = X_test[X_test.str.strip() != \"\"]"
   ]
  },
  {
   "cell_type": "code",
   "execution_count": 16,
   "id": "3a21505f-155a-4a83-ad08-10c400c9385e",
   "metadata": {
    "scrolled": true
   },
   "outputs": [],
   "source": [
    "# Vectorize text\n",
    "vectorizer = TfidfVectorizer(stop_words='english', max_features=1000)\n",
    "X_train_vec = vectorizer.fit_transform(X_train)\n",
    "X_test_vec = vectorizer.transform(X_test)"
   ]
  },
  {
   "cell_type": "code",
   "execution_count": 17,
   "id": "8d0f1d9c-7acd-46c0-9419-b98ce82bbe58",
   "metadata": {},
   "outputs": [
    {
     "name": "stdout",
     "output_type": "stream",
     "text": [
      "Naive Bayes Results:\n",
      "              precision    recall  f1-score   support\n",
      "\n",
      "           0       0.90      0.93      0.91     21430\n",
      "           1       0.92      0.88      0.90     18486\n",
      "\n",
      "    accuracy                           0.91     39916\n",
      "   macro avg       0.91      0.90      0.91     39916\n",
      "weighted avg       0.91      0.91      0.91     39916\n",
      "\n",
      "Accuracy: 0.9065036576811304\n"
     ]
    }
   ],
   "source": [
    "# Naive Bayes\n",
    "nb = MultinomialNB()\n",
    "nb.fit(X_train_vec, y_train)\n",
    "y_pred_nb = nb.predict(X_test_vec)\n",
    "print(\"Naive Bayes Results:\") \n",
    "print(classification_report(y_test, y_pred_nb))\n",
    "print(\"Accuracy:\", accuracy_score(y_test, y_pred_nb))"
   ]
  },
  {
   "cell_type": "code",
   "execution_count": 18,
   "id": "d12b6902-ec08-4ab3-9d46-1ff04530ef8a",
   "metadata": {},
   "outputs": [
    {
     "name": "stderr",
     "output_type": "stream",
     "text": [
      "C:\\Users\\Pranathi\\AppData\\Roaming\\Python\\Python313\\site-packages\\xgboost\\training.py:183: UserWarning: [00:30:24] WARNING: C:\\actions-runner\\_work\\xgboost\\xgboost\\src\\learner.cc:738: \n",
      "Parameters: { \"use_label_encoder\" } are not used.\n",
      "\n",
      "  bst.update(dtrain, iteration=i, fobj=obj)\n"
     ]
    },
    {
     "name": "stdout",
     "output_type": "stream",
     "text": [
      "\n",
      "XGBoost Results:\n",
      "              precision    recall  f1-score   support\n",
      "\n",
      "           0       0.97      0.92      0.95     21430\n",
      "           1       0.91      0.97      0.94     18486\n",
      "\n",
      "    accuracy                           0.94     39916\n",
      "   macro avg       0.94      0.95      0.94     39916\n",
      "weighted avg       0.95      0.94      0.94     39916\n",
      "\n",
      "Accuracy: 0.9433811003106524\n"
     ]
    }
   ],
   "source": [
    "# XGBoost\n",
    "xgb = XGBClassifier(use_label_encoder=False, eval_metric='logloss', max_depth=3, min_child_weight=2, subsample=0.8, reg_alpha=1, reg_lambda=1)\n",
    "xgb.fit(X_train_vec, y_train)\n",
    "y_pred_xgb = xgb.predict(X_test_vec)\n",
    "print(\"\\nXGBoost Results:\")\n",
    "print(classification_report(y_test, y_pred_xgb))\n",
    "print(\"Accuracy:\", accuracy_score(y_test, y_pred_xgb))"
   ]
  },
  {
   "cell_type": "code",
   "execution_count": null,
   "id": "67eeeebe-a4d3-484d-920a-eab5794e046d",
   "metadata": {},
   "outputs": [],
   "source": []
  }
 ],
 "metadata": {
  "kernelspec": {
   "display_name": "Python 3",
   "language": "python",
   "name": "python3"
  },
  "language_info": {
   "codemirror_mode": {
    "name": "ipython",
    "version": 3
   },
   "file_extension": ".py",
   "mimetype": "text/x-python",
   "name": "python",
   "nbconvert_exporter": "python",
   "pygments_lexer": "ipython3",
   "version": "3.13.1"
  }
 },
 "nbformat": 4,
 "nbformat_minor": 5
}
